{
 "cells": [
  {
   "cell_type": "markdown",
   "metadata": {},
   "source": [
    "# Employee Turnover Prediction"
   ]
  },
  {
   "cell_type": "markdown",
   "metadata": {},
   "source": [
    "## **1. Problem formulation**\n",
    "\n",
    "**1.1. Problem Formulation**\n",
    "\n",
    "The objective of this project is to develop a Bayesian predictive model to forecast which employees are likely to leave their jobs in the near future. Employee turnover poses a significant challenge for organizations, impacting operational efficiency and increasing costs."
   ]
  },
  {
   "cell_type": "markdown",
   "metadata": {},
   "source": [
    "We assume that employees' decisions to leave are independent of each other, meaning that an employee's decision to leave depends solely on their own characteristics and is not directly related to the decisions of other employees. We are disregarding external factors that may change over time, such as changes in company policy, labor market fluctuations, etc., which could influence employees' decisions to leave."
   ]
  },
  {
   "cell_type": "markdown",
   "metadata": {},
   "source": [
    "**The aim of the project is to predict which employee is likely to leave the organization based on their demographic, professional, and psychological attributes.**"
   ]
  },
  {
   "cell_type": "markdown",
   "metadata": {},
   "source": [
    "We believe that our model can be useful. The anticipated use cases of the proposed model are described below.\n",
    "\n",
    "* **Human Resource Management**\n",
    "\n",
    "    HR specialists can use the model to identify employees at risk of leaving, enabling the implementation of targeted retention strategies and minimizing the loss of key talents.\n",
    "\n",
    "* **Workforce Planning**\n",
    "\n",
    "    Managers can utilize the model's predictions for more effective human resource planning, allowing them to prepare for potential departures and prevent staffing shortages.\n",
    "\n",
    "* **Decision Support**\n",
    "\n",
    "    The company's management can use the model's results to understand the main factors influencing employee turnover, supporting decisions regarding employment policies and retention strategies.\n",
    "\n",
    "* **HR Consulting**\n",
    "\n",
    "    HR consultants can use the model to advise companies on improving employment policies, reducing turnover rates, and increasing employee satisfaction through more targeted actions."
   ]
  },
  {
   "cell_type": "markdown",
   "metadata": {},
   "source": [
    "**1.2. Survival Analysis**\n",
    "\n",
    "The employee turnover problem can be considered as a part of **Survival Analysis**, also known as time-to-event analysis. It focuses on analyzing the time until an event of interest occurs. This type of analysis is particularly useful in fields like medicine, engineering, and social sciences where the timing of events is crucial."
   ]
  },
  {
   "cell_type": "markdown",
   "metadata": {},
   "source": [
    "**1.2.1. Key Concepts in Survival Analysis**\n",
    "\n",
    "- **Event of Interest:** The specific occurrence being studied, such as death, failure of a machine, or relapse of a disease.\n",
    "\n",
    "- **Survival Time:** The time from the beginning of the observation period to the event of interest. If the event has not occurred by the end of the study, the survival time is censored.\n",
    "\n",
    "- **Censoring:** This occurs when the exact survival time is not known. Common types of censoring include right-censoring (event hasn't occurred by the end of the study) and left-censoring (event occurred before the study began).\n",
    "\n",
    "- **Survival Function $ (S(t)) $:** A function that provides the probability that the time to the event is greater than a specified time t. It describes how the probability of survival decreases over time.\n",
    "\n",
    "- **Hazard Function $ (h(t)) $:** The instantaneous rate at which events occur, given no prior occurrence. It describes the risk of the event happening at time $ t $."
   ]
  },
  {
   "cell_type": "markdown",
   "metadata": {},
   "source": [
    "**1.2.2. Types of Survival Models**\n",
    "\n",
    "* **Non-Parametric Models:**\n",
    "   - **Kaplan-Meier Estimator:** A method to estimate the survival function from lifetime data. It provides a step function representing the probability of surviving past certain time points.\n",
    "   - **Log-Rank Test:** A hypothesis test to compare the survival distributions of two or more groups.\n",
    "\n",
    "* **Semi-Parametric Models:**\n",
    "   - **Cox Proportional Hazards Model:** A widely used model that assesses the effect of covariates on the hazard rate. It assumes that the hazard ratios are constant over time (proportional hazards).\n",
    "\n",
    "* **Parametric Models:**\n",
    "   - **Exponential Model:** Assumes the hazard function is constant over time, leading to an exponential distribution of survival times.\n",
    "   - **Weibull Model:** Generalizes the exponential model by allowing the hazard function to vary over time, providing more flexibility.\n",
    "   - **Log-Normal and Log-Logistic Models:** Useful for modeling survival times with a particular skewed distribution.\n",
    "\n",
    "In our project, as we are focused on parametric and semi-parametric models, we decided to do such analysis using [Weibull distribution](https://en.wikipedia.org/wiki/Weibull_distribution)."
   ]
  },
  {
   "cell_type": "markdown",
   "metadata": {},
   "source": [
    "**1.2.3. Weibull distribution**\n",
    "\n",
    "The Weibull distribution is a versatile and widely used probability distribution in survival analysis and reliability engineering. It can model various types of survival data, including both increasing and decreasing hazard rates over time, making it suitable for different scenarios.\n",
    "\n",
    "\n",
    "**Why Weibull Distribution for Employee Turnover**\n",
    "\n",
    "The Weibull distribution is a good choice for modeling employee turnover for several reasons:\n",
    "- **Flexibility in Hazard Rates:** Employee turnover might not follow a constant hazard rate. For example, new employees might be more likely to leave within the first few months (decreasing hazard), or employees might be more likely to leave as they gain experience and seek better opportunities (increasing hazard). The Weibull distribution can model both scenarios.\n",
    "- **Generalization of Exponential Distribution:** If employee turnover has a constant hazard rate, the Weibull distribution simplifies to the exponential distribution (k = 1), providing a more general modeling framework.\n",
    "- **Ease of Interpretation:** The shape and scale parameters have intuitive interpretations related to the risk of turnover over time and the characteristic time to turnover, respectively.\n",
    "\n",
    "\n",
    "**Parameters of the Weibull Distribution**\n",
    "\n",
    "The Weibull distribution is characterized by two parameters:\n",
    "* **Shape Parameter (k or $ \\alpha $):** This parameter determines the shape of the hazard function.\n",
    "   - **$ k < 1 $:** The hazard function is decreasing over time (useful for modeling early failures).\n",
    "   - **$ k = 1 $:** The hazard function is constant over time (equivalent to an exponential distribution).\n",
    "   - **$ k > 1 $:** The hazard function is increasing over time (useful for aging processes where the risk of failure increases with time).\n",
    "\n",
    "* **Scale Parameter (λ or $ \\beta $):** This parameter scales the distribution along the time axis. It is a measure of the characteristic life of the population.\n",
    "\n",
    "The probability density function (pdf) of the Weibull distribution is:\n",
    "   * $ f(t | k, \\lambda) = \\frac{k}{\\lambda} \\left(\\frac{t}{\\lambda}\\right)^{k-1} e^{-(t/\\lambda)^k} $\n",
    "\n",
    "And the hazard function is:\n",
    "   * $ h(t | k, \\lambda) = \\frac{k}{\\lambda} \\left(\\frac{t}{\\lambda}\\right)^{k-1} $\n"
   ]
  },
  {
   "cell_type": "markdown",
   "metadata": {},
   "source": [
    "**1.2. Data source**\n",
    "\n",
    "Employee turnover results from various factors, including demographic information, job roles, industry type, and psychological characteristics. \n",
    "\n",
    "This Employee Turnover dataset is a real dataset shared from Edward Babushkin's blog used to predict an employee's risk of quitting. The dataset consists of 1129 records with the following features:\n",
    "\n",
    "* **stag:** Employee's tenure at the company.\n",
    "* **event:** Target variable indicating turnover (1 for leaving, 0 for staying).\n",
    "* **gender**: Employee's gender (m for male, f for female).\n",
    "* **age:** Employee's age.\n",
    "* **industry:** Industry in which the employee works.\n",
    "* **profession:** Employee's occupation.\n",
    "* **traffic:** Commuting source, indicating how the employee gets to work.\n",
    "* **coach:** Indicates whether the employee has a coach (yes or no).\n",
    "* **head_gender:** Gender of the supervisor.\n",
    "* **greywage:** Type of wage (white for regular wage).\n",
    "* **way:** Mode of transportation to work (bus, car, etc.).\n",
    "* **extraversion:** Employee's extraversion score.\n",
    "* **independ:** Employee's independence score.\n",
    "* **selfcontrol:** Employee's self-control score.\n",
    "* **anxiety:** Employee's anxiety score.\n",
    "* **novator:** Employee's innovativeness score.\n"
   ]
  },
  {
   "cell_type": "markdown",
   "metadata": {},
   "source": [
    "Data has been downloaded from kaggle.\n",
    "\n",
    "https://www.kaggle.com/datasets/davinwijaya/employee-turnover"
   ]
  },
  {
   "cell_type": "markdown",
   "metadata": {},
   "source": [
    "## **2. Data preprocessing**"
   ]
  },
  {
   "cell_type": "markdown",
   "metadata": {},
   "source": [
    "**2.1. Data overview**\n",
    "\n",
    "Firstly, let's print out our data to see sample of records that are there."
   ]
  },
  {
   "cell_type": "code",
   "execution_count": 1,
   "metadata": {
    "metadata": {}
   },
   "outputs": [
    {
     "data": {
      "text/html": [
       "<div>\n",
       "<style scoped>\n",
       "    .dataframe tbody tr th:only-of-type {\n",
       "        vertical-align: middle;\n",
       "    }\n",
       "\n",
       "    .dataframe tbody tr th {\n",
       "        vertical-align: top;\n",
       "    }\n",
       "\n",
       "    .dataframe thead th {\n",
       "        text-align: right;\n",
       "    }\n",
       "</style>\n",
       "<table border=\"1\" class=\"dataframe\">\n",
       "  <thead>\n",
       "    <tr style=\"text-align: right;\">\n",
       "      <th></th>\n",
       "      <th>stag</th>\n",
       "      <th>event</th>\n",
       "      <th>gender</th>\n",
       "      <th>age</th>\n",
       "      <th>industry</th>\n",
       "      <th>profession</th>\n",
       "      <th>traffic</th>\n",
       "      <th>coach</th>\n",
       "      <th>head_gender</th>\n",
       "      <th>greywage</th>\n",
       "      <th>way</th>\n",
       "      <th>extraversion</th>\n",
       "      <th>independ</th>\n",
       "      <th>selfcontrol</th>\n",
       "      <th>anxiety</th>\n",
       "      <th>novator</th>\n",
       "    </tr>\n",
       "  </thead>\n",
       "  <tbody>\n",
       "    <tr>\n",
       "      <th>0</th>\n",
       "      <td>7.030801</td>\n",
       "      <td>1</td>\n",
       "      <td>m</td>\n",
       "      <td>35.0</td>\n",
       "      <td>Banks</td>\n",
       "      <td>HR</td>\n",
       "      <td>rabrecNErab</td>\n",
       "      <td>no</td>\n",
       "      <td>f</td>\n",
       "      <td>white</td>\n",
       "      <td>bus</td>\n",
       "      <td>6.2</td>\n",
       "      <td>4.1</td>\n",
       "      <td>5.7</td>\n",
       "      <td>7.1</td>\n",
       "      <td>8.3</td>\n",
       "    </tr>\n",
       "    <tr>\n",
       "      <th>1</th>\n",
       "      <td>22.965092</td>\n",
       "      <td>1</td>\n",
       "      <td>m</td>\n",
       "      <td>33.0</td>\n",
       "      <td>Banks</td>\n",
       "      <td>HR</td>\n",
       "      <td>empjs</td>\n",
       "      <td>no</td>\n",
       "      <td>m</td>\n",
       "      <td>white</td>\n",
       "      <td>bus</td>\n",
       "      <td>6.2</td>\n",
       "      <td>4.1</td>\n",
       "      <td>5.7</td>\n",
       "      <td>7.1</td>\n",
       "      <td>8.3</td>\n",
       "    </tr>\n",
       "    <tr>\n",
       "      <th>2</th>\n",
       "      <td>15.934292</td>\n",
       "      <td>1</td>\n",
       "      <td>f</td>\n",
       "      <td>35.0</td>\n",
       "      <td>PowerGeneration</td>\n",
       "      <td>HR</td>\n",
       "      <td>rabrecNErab</td>\n",
       "      <td>no</td>\n",
       "      <td>m</td>\n",
       "      <td>white</td>\n",
       "      <td>bus</td>\n",
       "      <td>6.2</td>\n",
       "      <td>6.2</td>\n",
       "      <td>2.6</td>\n",
       "      <td>4.8</td>\n",
       "      <td>8.3</td>\n",
       "    </tr>\n",
       "    <tr>\n",
       "      <th>3</th>\n",
       "      <td>15.934292</td>\n",
       "      <td>1</td>\n",
       "      <td>f</td>\n",
       "      <td>35.0</td>\n",
       "      <td>PowerGeneration</td>\n",
       "      <td>HR</td>\n",
       "      <td>rabrecNErab</td>\n",
       "      <td>no</td>\n",
       "      <td>m</td>\n",
       "      <td>white</td>\n",
       "      <td>bus</td>\n",
       "      <td>5.4</td>\n",
       "      <td>7.6</td>\n",
       "      <td>4.9</td>\n",
       "      <td>2.5</td>\n",
       "      <td>6.7</td>\n",
       "    </tr>\n",
       "    <tr>\n",
       "      <th>4</th>\n",
       "      <td>8.410678</td>\n",
       "      <td>1</td>\n",
       "      <td>m</td>\n",
       "      <td>32.0</td>\n",
       "      <td>Retail</td>\n",
       "      <td>Commercial</td>\n",
       "      <td>youjs</td>\n",
       "      <td>yes</td>\n",
       "      <td>f</td>\n",
       "      <td>white</td>\n",
       "      <td>bus</td>\n",
       "      <td>3.0</td>\n",
       "      <td>4.1</td>\n",
       "      <td>8.0</td>\n",
       "      <td>7.1</td>\n",
       "      <td>3.7</td>\n",
       "    </tr>\n",
       "  </tbody>\n",
       "</table>\n",
       "</div>"
      ],
      "text/plain": [
       "        stag  event gender   age         industry  profession      traffic  \\\n",
       "0   7.030801      1      m  35.0            Banks          HR  rabrecNErab   \n",
       "1  22.965092      1      m  33.0            Banks          HR        empjs   \n",
       "2  15.934292      1      f  35.0  PowerGeneration          HR  rabrecNErab   \n",
       "3  15.934292      1      f  35.0  PowerGeneration          HR  rabrecNErab   \n",
       "4   8.410678      1      m  32.0           Retail  Commercial        youjs   \n",
       "\n",
       "  coach head_gender greywage  way  extraversion  independ  selfcontrol  \\\n",
       "0    no           f    white  bus           6.2       4.1          5.7   \n",
       "1    no           m    white  bus           6.2       4.1          5.7   \n",
       "2    no           m    white  bus           6.2       6.2          2.6   \n",
       "3    no           m    white  bus           5.4       7.6          4.9   \n",
       "4   yes           f    white  bus           3.0       4.1          8.0   \n",
       "\n",
       "   anxiety  novator  \n",
       "0      7.1      8.3  \n",
       "1      7.1      8.3  \n",
       "2      4.8      8.3  \n",
       "3      2.5      6.7  \n",
       "4      7.1      3.7  "
      ]
     },
     "execution_count": 1,
     "metadata": {},
     "output_type": "execute_result"
    }
   ],
   "source": [
    "import pandas as pd\n",
    "\n",
    "df = pd.read_csv(\"turnover.csv\", encoding = \"ISO-8859-1\")\n",
    "df.head()"
   ]
  },
  {
   "cell_type": "code",
   "execution_count": 2,
   "metadata": {},
   "outputs": [
    {
     "data": {
      "text/plain": [
       "571"
      ]
     },
     "execution_count": 2,
     "metadata": {},
     "output_type": "execute_result"
    }
   ],
   "source": [
    "df[\"event\"].sum()"
   ]
  },
  {
   "cell_type": "markdown",
   "metadata": {},
   "source": [
    "The data looks good at the first look, but we can get some more details about it to have overall look."
   ]
  },
  {
   "cell_type": "code",
   "execution_count": 3,
   "metadata": {
    "metadata": {}
   },
   "outputs": [
    {
     "data": {
      "text/html": [
       "<div>\n",
       "<style scoped>\n",
       "    .dataframe tbody tr th:only-of-type {\n",
       "        vertical-align: middle;\n",
       "    }\n",
       "\n",
       "    .dataframe tbody tr th {\n",
       "        vertical-align: top;\n",
       "    }\n",
       "\n",
       "    .dataframe thead th {\n",
       "        text-align: right;\n",
       "    }\n",
       "</style>\n",
       "<table border=\"1\" class=\"dataframe\">\n",
       "  <thead>\n",
       "    <tr style=\"text-align: right;\">\n",
       "      <th></th>\n",
       "      <th>stag</th>\n",
       "      <th>event</th>\n",
       "      <th>age</th>\n",
       "      <th>extraversion</th>\n",
       "      <th>independ</th>\n",
       "      <th>selfcontrol</th>\n",
       "      <th>anxiety</th>\n",
       "      <th>novator</th>\n",
       "    </tr>\n",
       "  </thead>\n",
       "  <tbody>\n",
       "    <tr>\n",
       "      <th>count</th>\n",
       "      <td>1129.000000</td>\n",
       "      <td>1129.000000</td>\n",
       "      <td>1129.000000</td>\n",
       "      <td>1129.000000</td>\n",
       "      <td>1129.000000</td>\n",
       "      <td>1129.000000</td>\n",
       "      <td>1129.000000</td>\n",
       "      <td>1129.000000</td>\n",
       "    </tr>\n",
       "    <tr>\n",
       "      <th>mean</th>\n",
       "      <td>36.627526</td>\n",
       "      <td>0.505757</td>\n",
       "      <td>31.066965</td>\n",
       "      <td>5.592383</td>\n",
       "      <td>5.478034</td>\n",
       "      <td>5.597254</td>\n",
       "      <td>5.665633</td>\n",
       "      <td>5.879628</td>\n",
       "    </tr>\n",
       "    <tr>\n",
       "      <th>std</th>\n",
       "      <td>34.096597</td>\n",
       "      <td>0.500188</td>\n",
       "      <td>6.996147</td>\n",
       "      <td>1.851637</td>\n",
       "      <td>1.703312</td>\n",
       "      <td>1.980101</td>\n",
       "      <td>1.709176</td>\n",
       "      <td>1.904016</td>\n",
       "    </tr>\n",
       "    <tr>\n",
       "      <th>min</th>\n",
       "      <td>0.394251</td>\n",
       "      <td>0.000000</td>\n",
       "      <td>18.000000</td>\n",
       "      <td>1.000000</td>\n",
       "      <td>1.000000</td>\n",
       "      <td>1.000000</td>\n",
       "      <td>1.700000</td>\n",
       "      <td>1.000000</td>\n",
       "    </tr>\n",
       "    <tr>\n",
       "      <th>25%</th>\n",
       "      <td>11.728953</td>\n",
       "      <td>0.000000</td>\n",
       "      <td>26.000000</td>\n",
       "      <td>4.600000</td>\n",
       "      <td>4.100000</td>\n",
       "      <td>4.100000</td>\n",
       "      <td>4.800000</td>\n",
       "      <td>4.400000</td>\n",
       "    </tr>\n",
       "    <tr>\n",
       "      <th>50%</th>\n",
       "      <td>24.344969</td>\n",
       "      <td>1.000000</td>\n",
       "      <td>30.000000</td>\n",
       "      <td>5.400000</td>\n",
       "      <td>5.500000</td>\n",
       "      <td>5.700000</td>\n",
       "      <td>5.600000</td>\n",
       "      <td>6.000000</td>\n",
       "    </tr>\n",
       "    <tr>\n",
       "      <th>75%</th>\n",
       "      <td>51.318275</td>\n",
       "      <td>1.000000</td>\n",
       "      <td>36.000000</td>\n",
       "      <td>7.000000</td>\n",
       "      <td>6.900000</td>\n",
       "      <td>7.200000</td>\n",
       "      <td>7.100000</td>\n",
       "      <td>7.500000</td>\n",
       "    </tr>\n",
       "    <tr>\n",
       "      <th>max</th>\n",
       "      <td>179.449692</td>\n",
       "      <td>1.000000</td>\n",
       "      <td>58.000000</td>\n",
       "      <td>10.000000</td>\n",
       "      <td>10.000000</td>\n",
       "      <td>10.000000</td>\n",
       "      <td>10.000000</td>\n",
       "      <td>10.000000</td>\n",
       "    </tr>\n",
       "  </tbody>\n",
       "</table>\n",
       "</div>"
      ],
      "text/plain": [
       "              stag        event          age  extraversion     independ  \\\n",
       "count  1129.000000  1129.000000  1129.000000   1129.000000  1129.000000   \n",
       "mean     36.627526     0.505757    31.066965      5.592383     5.478034   \n",
       "std      34.096597     0.500188     6.996147      1.851637     1.703312   \n",
       "min       0.394251     0.000000    18.000000      1.000000     1.000000   \n",
       "25%      11.728953     0.000000    26.000000      4.600000     4.100000   \n",
       "50%      24.344969     1.000000    30.000000      5.400000     5.500000   \n",
       "75%      51.318275     1.000000    36.000000      7.000000     6.900000   \n",
       "max     179.449692     1.000000    58.000000     10.000000    10.000000   \n",
       "\n",
       "       selfcontrol      anxiety      novator  \n",
       "count  1129.000000  1129.000000  1129.000000  \n",
       "mean      5.597254     5.665633     5.879628  \n",
       "std       1.980101     1.709176     1.904016  \n",
       "min       1.000000     1.700000     1.000000  \n",
       "25%       4.100000     4.800000     4.400000  \n",
       "50%       5.700000     5.600000     6.000000  \n",
       "75%       7.200000     7.100000     7.500000  \n",
       "max      10.000000    10.000000    10.000000  "
      ]
     },
     "execution_count": 3,
     "metadata": {},
     "output_type": "execute_result"
    }
   ],
   "source": [
    "df.describe()"
   ]
  },
  {
   "cell_type": "markdown",
   "metadata": {},
   "source": [
    "As we can see, the numerical data that desribes employee character like extraversion, anxiety, etc. are normalized in the values range 0 - 10 which is good. Also the 'age' column has values between 18 and 58 which sounds reasonable and makes us sure we have no outliers in the dataset. Column named 'event' has also proper values as it contains probability values for each employee. Now, when we are sure we have no outliers nor any other strange values here, let's see if there are some NaN's.  "
   ]
  },
  {
   "cell_type": "code",
   "execution_count": 4,
   "metadata": {
    "metadata": {}
   },
   "outputs": [
    {
     "data": {
      "text/plain": [
       "stag            0\n",
       "event           0\n",
       "gender          0\n",
       "age             0\n",
       "industry        0\n",
       "profession      0\n",
       "traffic         0\n",
       "coach           0\n",
       "head_gender     0\n",
       "greywage        0\n",
       "way             0\n",
       "extraversion    0\n",
       "independ        0\n",
       "selfcontrol     0\n",
       "anxiety         0\n",
       "novator         0\n",
       "dtype: int64"
      ]
     },
     "execution_count": 4,
     "metadata": {},
     "output_type": "execute_result"
    }
   ],
   "source": [
    "df.isnull().sum()"
   ]
  },
  {
   "cell_type": "markdown",
   "metadata": {},
   "source": [
    "**2.2. Categorical data encoding**\n",
    "\n",
    "Now when we are sure that our numerical data are fine, we can take a look at the categorical ones. To make it usefull in our project we should firstly encode its values to make its type numerical. For this we can use `LabelEncoder` from `scikit-learn` library."
   ]
  },
  {
   "cell_type": "code",
   "execution_count": 5,
   "metadata": {
    "metadata": {}
   },
   "outputs": [
    {
     "name": "stdout",
     "output_type": "stream",
     "text": [
      "{'gender': {'m': 1, 'f': 0}, 'industry': {'Banks': 2, 'PowerGeneration': 8, 'Retail': 10, 'manufacture': 14, 'Consult': 4, 'State': 11, 'etc': 13, 'Building': 3, 'IT': 5, ' HoReCa': 0, 'Telecom': 12, 'Pharma': 7, 'Mining': 6, 'transport': 15, 'Agriculture': 1, 'RealEstate': 9}, 'profession': {'HR': 6, 'Commercial': 2, 'Marketing': 9, 'etc': 13, 'Sales': 11, 'BusinessDevelopment': 1, 'Finanñe': 5, 'Teaching': 12, 'manage': 14, 'IT': 7, 'Law': 8, 'Consult': 3, 'Engineer': 4, 'PR': 10, 'Accounting': 0}, 'traffic': {'rabrecNErab': 4, 'empjs': 2, 'youjs': 7, 'referal': 6, 'advert': 1, 'KA': 0, 'recNErab': 5, 'friends': 3}, 'coach': {'no': 1, 'yes': 2, 'my head': 0}, 'head_gender': {'f': 0, 'm': 1}, 'greywage': {'white': 1, 'grey': 0}, 'way': {'bus': 0, 'car': 1, 'foot': 2}}\n"
     ]
    }
   ],
   "source": [
    "from sklearn.preprocessing import LabelEncoder\n",
    "\n",
    "encoding_map = {}\n",
    "for col in df.columns:\n",
    "    if df[col].dtype == 'object':\n",
    "        labels = df[col].unique()\n",
    "        \n",
    "        encoder = LabelEncoder()\n",
    "        encoder = encoder.fit(df[col])\n",
    "        df[col] = encoder.transform(df[col].astype(str))\n",
    "        \n",
    "        map_column_values = {label: num for label, num in zip(labels, encoder.transform(labels))}\n",
    "        encoding_map[col] = map_column_values\n",
    "\n",
    "print(encoding_map)"
   ]
  },
  {
   "cell_type": "markdown",
   "metadata": {},
   "source": [
    "**2.3. Features normalization**\n",
    "\n",
    "To have a reliable data representation for our modelling we should normalize our features."
   ]
  },
  {
   "cell_type": "code",
   "execution_count": 6,
   "metadata": {},
   "outputs": [
    {
     "name": "stdout",
     "output_type": "stream",
     "text": [
      "Feature matrix shape: (1129, 14)\n"
     ]
    }
   ],
   "source": [
    "import numpy as np\n",
    "\n",
    "features_columns = df.columns.to_list()\n",
    "features_columns.remove(\"stag\")\n",
    "features_columns.remove(\"event\")\n",
    "features_matrix = df[features_columns].values\n",
    "\n",
    "normalized_features_matrix = np.array([v / np.linalg.norm(v) for v in features_matrix[:]])\n",
    "print(f\"Feature matrix shape: {normalized_features_matrix.shape}\")"
   ]
  },
  {
   "cell_type": "markdown",
   "metadata": {},
   "source": [
    "Now the dataset is fully ready to use in our modelling. We can also see the encoding map placed above to know which number represents which label in the original data. It will help us in better interpretation of the received results in the future. "
   ]
  },
  {
   "cell_type": "code",
   "execution_count": 7,
   "metadata": {},
   "outputs": [
    {
     "data": {
      "text/html": [
       "<div>\n",
       "<style scoped>\n",
       "    .dataframe tbody tr th:only-of-type {\n",
       "        vertical-align: middle;\n",
       "    }\n",
       "\n",
       "    .dataframe tbody tr th {\n",
       "        vertical-align: top;\n",
       "    }\n",
       "\n",
       "    .dataframe thead th {\n",
       "        text-align: right;\n",
       "    }\n",
       "</style>\n",
       "<table border=\"1\" class=\"dataframe\">\n",
       "  <thead>\n",
       "    <tr style=\"text-align: right;\">\n",
       "      <th></th>\n",
       "      <th>stag</th>\n",
       "      <th>event</th>\n",
       "      <th>gender</th>\n",
       "      <th>age</th>\n",
       "      <th>industry</th>\n",
       "      <th>profession</th>\n",
       "      <th>traffic</th>\n",
       "      <th>coach</th>\n",
       "      <th>head_gender</th>\n",
       "      <th>greywage</th>\n",
       "      <th>way</th>\n",
       "      <th>extraversion</th>\n",
       "      <th>independ</th>\n",
       "      <th>selfcontrol</th>\n",
       "      <th>anxiety</th>\n",
       "      <th>novator</th>\n",
       "    </tr>\n",
       "  </thead>\n",
       "  <tbody>\n",
       "    <tr>\n",
       "      <th>stag</th>\n",
       "      <td>1.000000</td>\n",
       "      <td>-0.048361</td>\n",
       "      <td>0.042269</td>\n",
       "      <td>-0.197381</td>\n",
       "      <td>0.071454</td>\n",
       "      <td>-0.051548</td>\n",
       "      <td>0.008434</td>\n",
       "      <td>-0.014459</td>\n",
       "      <td>-0.006827</td>\n",
       "      <td>0.120718</td>\n",
       "      <td>0.074214</td>\n",
       "      <td>-0.088227</td>\n",
       "      <td>0.000550</td>\n",
       "      <td>0.077076</td>\n",
       "      <td>0.014755</td>\n",
       "      <td>-0.037633</td>\n",
       "    </tr>\n",
       "    <tr>\n",
       "      <th>event</th>\n",
       "      <td>-0.048361</td>\n",
       "      <td>1.000000</td>\n",
       "      <td>-0.018917</td>\n",
       "      <td>-0.048751</td>\n",
       "      <td>-0.064898</td>\n",
       "      <td>0.033031</td>\n",
       "      <td>-0.015078</td>\n",
       "      <td>0.064296</td>\n",
       "      <td>0.041259</td>\n",
       "      <td>-0.049166</td>\n",
       "      <td>-0.067470</td>\n",
       "      <td>0.015458</td>\n",
       "      <td>0.051864</td>\n",
       "      <td>-0.040040</td>\n",
       "      <td>-0.063232</td>\n",
       "      <td>0.006825</td>\n",
       "    </tr>\n",
       "    <tr>\n",
       "      <th>gender</th>\n",
       "      <td>0.042269</td>\n",
       "      <td>-0.018917</td>\n",
       "      <td>1.000000</td>\n",
       "      <td>0.055559</td>\n",
       "      <td>-0.018343</td>\n",
       "      <td>0.069097</td>\n",
       "      <td>-0.027809</td>\n",
       "      <td>0.011848</td>\n",
       "      <td>0.211305</td>\n",
       "      <td>0.019874</td>\n",
       "      <td>0.063631</td>\n",
       "      <td>-0.146428</td>\n",
       "      <td>-0.124849</td>\n",
       "      <td>0.075138</td>\n",
       "      <td>0.319064</td>\n",
       "      <td>0.011070</td>\n",
       "    </tr>\n",
       "    <tr>\n",
       "      <th>age</th>\n",
       "      <td>-0.197381</td>\n",
       "      <td>-0.048751</td>\n",
       "      <td>0.055559</td>\n",
       "      <td>1.000000</td>\n",
       "      <td>0.094457</td>\n",
       "      <td>-0.120165</td>\n",
       "      <td>-0.112726</td>\n",
       "      <td>0.047159</td>\n",
       "      <td>0.197833</td>\n",
       "      <td>-0.028580</td>\n",
       "      <td>0.060681</td>\n",
       "      <td>-0.149753</td>\n",
       "      <td>0.056129</td>\n",
       "      <td>0.038996</td>\n",
       "      <td>0.057782</td>\n",
       "      <td>0.039509</td>\n",
       "    </tr>\n",
       "    <tr>\n",
       "      <th>industry</th>\n",
       "      <td>0.071454</td>\n",
       "      <td>-0.064898</td>\n",
       "      <td>-0.018343</td>\n",
       "      <td>0.094457</td>\n",
       "      <td>1.000000</td>\n",
       "      <td>0.038143</td>\n",
       "      <td>0.007050</td>\n",
       "      <td>-0.056557</td>\n",
       "      <td>0.002100</td>\n",
       "      <td>-0.042358</td>\n",
       "      <td>0.032720</td>\n",
       "      <td>-0.027950</td>\n",
       "      <td>-0.083249</td>\n",
       "      <td>0.084204</td>\n",
       "      <td>0.040872</td>\n",
       "      <td>-0.062133</td>\n",
       "    </tr>\n",
       "    <tr>\n",
       "      <th>profession</th>\n",
       "      <td>-0.051548</td>\n",
       "      <td>0.033031</td>\n",
       "      <td>0.069097</td>\n",
       "      <td>-0.120165</td>\n",
       "      <td>0.038143</td>\n",
       "      <td>1.000000</td>\n",
       "      <td>-0.061871</td>\n",
       "      <td>-0.017381</td>\n",
       "      <td>0.003221</td>\n",
       "      <td>-0.018734</td>\n",
       "      <td>0.065788</td>\n",
       "      <td>0.026550</td>\n",
       "      <td>0.007971</td>\n",
       "      <td>-0.069070</td>\n",
       "      <td>-0.029883</td>\n",
       "      <td>0.052465</td>\n",
       "    </tr>\n",
       "    <tr>\n",
       "      <th>traffic</th>\n",
       "      <td>0.008434</td>\n",
       "      <td>-0.015078</td>\n",
       "      <td>-0.027809</td>\n",
       "      <td>-0.112726</td>\n",
       "      <td>0.007050</td>\n",
       "      <td>-0.061871</td>\n",
       "      <td>1.000000</td>\n",
       "      <td>0.008135</td>\n",
       "      <td>-0.001959</td>\n",
       "      <td>0.025800</td>\n",
       "      <td>-0.067533</td>\n",
       "      <td>-0.057952</td>\n",
       "      <td>-0.049713</td>\n",
       "      <td>0.107039</td>\n",
       "      <td>-0.051959</td>\n",
       "      <td>-0.098425</td>\n",
       "    </tr>\n",
       "    <tr>\n",
       "      <th>coach</th>\n",
       "      <td>-0.014459</td>\n",
       "      <td>0.064296</td>\n",
       "      <td>0.011848</td>\n",
       "      <td>0.047159</td>\n",
       "      <td>-0.056557</td>\n",
       "      <td>-0.017381</td>\n",
       "      <td>0.008135</td>\n",
       "      <td>1.000000</td>\n",
       "      <td>0.020843</td>\n",
       "      <td>0.020890</td>\n",
       "      <td>0.008798</td>\n",
       "      <td>0.028686</td>\n",
       "      <td>-0.006078</td>\n",
       "      <td>-0.038380</td>\n",
       "      <td>-0.002010</td>\n",
       "      <td>0.065036</td>\n",
       "    </tr>\n",
       "    <tr>\n",
       "      <th>head_gender</th>\n",
       "      <td>-0.006827</td>\n",
       "      <td>0.041259</td>\n",
       "      <td>0.211305</td>\n",
       "      <td>0.197833</td>\n",
       "      <td>0.002100</td>\n",
       "      <td>0.003221</td>\n",
       "      <td>-0.001959</td>\n",
       "      <td>0.020843</td>\n",
       "      <td>1.000000</td>\n",
       "      <td>-0.029769</td>\n",
       "      <td>0.007186</td>\n",
       "      <td>-0.006274</td>\n",
       "      <td>-0.045154</td>\n",
       "      <td>-0.041462</td>\n",
       "      <td>0.042197</td>\n",
       "      <td>0.042840</td>\n",
       "    </tr>\n",
       "    <tr>\n",
       "      <th>greywage</th>\n",
       "      <td>0.120718</td>\n",
       "      <td>-0.049166</td>\n",
       "      <td>0.019874</td>\n",
       "      <td>-0.028580</td>\n",
       "      <td>-0.042358</td>\n",
       "      <td>-0.018734</td>\n",
       "      <td>0.025800</td>\n",
       "      <td>0.020890</td>\n",
       "      <td>-0.029769</td>\n",
       "      <td>1.000000</td>\n",
       "      <td>0.072780</td>\n",
       "      <td>-0.013582</td>\n",
       "      <td>0.099136</td>\n",
       "      <td>0.022168</td>\n",
       "      <td>-0.068037</td>\n",
       "      <td>0.011802</td>\n",
       "    </tr>\n",
       "    <tr>\n",
       "      <th>way</th>\n",
       "      <td>0.074214</td>\n",
       "      <td>-0.067470</td>\n",
       "      <td>0.063631</td>\n",
       "      <td>0.060681</td>\n",
       "      <td>0.032720</td>\n",
       "      <td>0.065788</td>\n",
       "      <td>-0.067533</td>\n",
       "      <td>0.008798</td>\n",
       "      <td>0.007186</td>\n",
       "      <td>0.072780</td>\n",
       "      <td>1.000000</td>\n",
       "      <td>0.022296</td>\n",
       "      <td>-0.023380</td>\n",
       "      <td>-0.037490</td>\n",
       "      <td>0.067713</td>\n",
       "      <td>0.085969</td>\n",
       "    </tr>\n",
       "    <tr>\n",
       "      <th>extraversion</th>\n",
       "      <td>-0.088227</td>\n",
       "      <td>0.015458</td>\n",
       "      <td>-0.146428</td>\n",
       "      <td>-0.149753</td>\n",
       "      <td>-0.027950</td>\n",
       "      <td>0.026550</td>\n",
       "      <td>-0.057952</td>\n",
       "      <td>0.028686</td>\n",
       "      <td>-0.006274</td>\n",
       "      <td>-0.013582</td>\n",
       "      <td>0.022296</td>\n",
       "      <td>1.000000</td>\n",
       "      <td>-0.200052</td>\n",
       "      <td>-0.538039</td>\n",
       "      <td>-0.135046</td>\n",
       "      <td>0.297375</td>\n",
       "    </tr>\n",
       "    <tr>\n",
       "      <th>independ</th>\n",
       "      <td>0.000550</td>\n",
       "      <td>0.051864</td>\n",
       "      <td>-0.124849</td>\n",
       "      <td>0.056129</td>\n",
       "      <td>-0.083249</td>\n",
       "      <td>0.007971</td>\n",
       "      <td>-0.049713</td>\n",
       "      <td>-0.006078</td>\n",
       "      <td>-0.045154</td>\n",
       "      <td>0.099136</td>\n",
       "      <td>-0.023380</td>\n",
       "      <td>-0.200052</td>\n",
       "      <td>1.000000</td>\n",
       "      <td>-0.165795</td>\n",
       "      <td>-0.427209</td>\n",
       "      <td>0.023865</td>\n",
       "    </tr>\n",
       "    <tr>\n",
       "      <th>selfcontrol</th>\n",
       "      <td>0.077076</td>\n",
       "      <td>-0.040040</td>\n",
       "      <td>0.075138</td>\n",
       "      <td>0.038996</td>\n",
       "      <td>0.084204</td>\n",
       "      <td>-0.069070</td>\n",
       "      <td>0.107039</td>\n",
       "      <td>-0.038380</td>\n",
       "      <td>-0.041462</td>\n",
       "      <td>0.022168</td>\n",
       "      <td>-0.037490</td>\n",
       "      <td>-0.538039</td>\n",
       "      <td>-0.165795</td>\n",
       "      <td>1.000000</td>\n",
       "      <td>-0.107568</td>\n",
       "      <td>-0.565972</td>\n",
       "    </tr>\n",
       "    <tr>\n",
       "      <th>anxiety</th>\n",
       "      <td>0.014755</td>\n",
       "      <td>-0.063232</td>\n",
       "      <td>0.319064</td>\n",
       "      <td>0.057782</td>\n",
       "      <td>0.040872</td>\n",
       "      <td>-0.029883</td>\n",
       "      <td>-0.051959</td>\n",
       "      <td>-0.002010</td>\n",
       "      <td>0.042197</td>\n",
       "      <td>-0.068037</td>\n",
       "      <td>0.067713</td>\n",
       "      <td>-0.135046</td>\n",
       "      <td>-0.427209</td>\n",
       "      <td>-0.107568</td>\n",
       "      <td>1.000000</td>\n",
       "      <td>0.246668</td>\n",
       "    </tr>\n",
       "    <tr>\n",
       "      <th>novator</th>\n",
       "      <td>-0.037633</td>\n",
       "      <td>0.006825</td>\n",
       "      <td>0.011070</td>\n",
       "      <td>0.039509</td>\n",
       "      <td>-0.062133</td>\n",
       "      <td>0.052465</td>\n",
       "      <td>-0.098425</td>\n",
       "      <td>0.065036</td>\n",
       "      <td>0.042840</td>\n",
       "      <td>0.011802</td>\n",
       "      <td>0.085969</td>\n",
       "      <td>0.297375</td>\n",
       "      <td>0.023865</td>\n",
       "      <td>-0.565972</td>\n",
       "      <td>0.246668</td>\n",
       "      <td>1.000000</td>\n",
       "    </tr>\n",
       "  </tbody>\n",
       "</table>\n",
       "</div>"
      ],
      "text/plain": [
       "                  stag     event    gender       age  industry  profession  \\\n",
       "stag          1.000000 -0.048361  0.042269 -0.197381  0.071454   -0.051548   \n",
       "event        -0.048361  1.000000 -0.018917 -0.048751 -0.064898    0.033031   \n",
       "gender        0.042269 -0.018917  1.000000  0.055559 -0.018343    0.069097   \n",
       "age          -0.197381 -0.048751  0.055559  1.000000  0.094457   -0.120165   \n",
       "industry      0.071454 -0.064898 -0.018343  0.094457  1.000000    0.038143   \n",
       "profession   -0.051548  0.033031  0.069097 -0.120165  0.038143    1.000000   \n",
       "traffic       0.008434 -0.015078 -0.027809 -0.112726  0.007050   -0.061871   \n",
       "coach        -0.014459  0.064296  0.011848  0.047159 -0.056557   -0.017381   \n",
       "head_gender  -0.006827  0.041259  0.211305  0.197833  0.002100    0.003221   \n",
       "greywage      0.120718 -0.049166  0.019874 -0.028580 -0.042358   -0.018734   \n",
       "way           0.074214 -0.067470  0.063631  0.060681  0.032720    0.065788   \n",
       "extraversion -0.088227  0.015458 -0.146428 -0.149753 -0.027950    0.026550   \n",
       "independ      0.000550  0.051864 -0.124849  0.056129 -0.083249    0.007971   \n",
       "selfcontrol   0.077076 -0.040040  0.075138  0.038996  0.084204   -0.069070   \n",
       "anxiety       0.014755 -0.063232  0.319064  0.057782  0.040872   -0.029883   \n",
       "novator      -0.037633  0.006825  0.011070  0.039509 -0.062133    0.052465   \n",
       "\n",
       "               traffic     coach  head_gender  greywage       way  \\\n",
       "stag          0.008434 -0.014459    -0.006827  0.120718  0.074214   \n",
       "event        -0.015078  0.064296     0.041259 -0.049166 -0.067470   \n",
       "gender       -0.027809  0.011848     0.211305  0.019874  0.063631   \n",
       "age          -0.112726  0.047159     0.197833 -0.028580  0.060681   \n",
       "industry      0.007050 -0.056557     0.002100 -0.042358  0.032720   \n",
       "profession   -0.061871 -0.017381     0.003221 -0.018734  0.065788   \n",
       "traffic       1.000000  0.008135    -0.001959  0.025800 -0.067533   \n",
       "coach         0.008135  1.000000     0.020843  0.020890  0.008798   \n",
       "head_gender  -0.001959  0.020843     1.000000 -0.029769  0.007186   \n",
       "greywage      0.025800  0.020890    -0.029769  1.000000  0.072780   \n",
       "way          -0.067533  0.008798     0.007186  0.072780  1.000000   \n",
       "extraversion -0.057952  0.028686    -0.006274 -0.013582  0.022296   \n",
       "independ     -0.049713 -0.006078    -0.045154  0.099136 -0.023380   \n",
       "selfcontrol   0.107039 -0.038380    -0.041462  0.022168 -0.037490   \n",
       "anxiety      -0.051959 -0.002010     0.042197 -0.068037  0.067713   \n",
       "novator      -0.098425  0.065036     0.042840  0.011802  0.085969   \n",
       "\n",
       "              extraversion  independ  selfcontrol   anxiety   novator  \n",
       "stag             -0.088227  0.000550     0.077076  0.014755 -0.037633  \n",
       "event             0.015458  0.051864    -0.040040 -0.063232  0.006825  \n",
       "gender           -0.146428 -0.124849     0.075138  0.319064  0.011070  \n",
       "age              -0.149753  0.056129     0.038996  0.057782  0.039509  \n",
       "industry         -0.027950 -0.083249     0.084204  0.040872 -0.062133  \n",
       "profession        0.026550  0.007971    -0.069070 -0.029883  0.052465  \n",
       "traffic          -0.057952 -0.049713     0.107039 -0.051959 -0.098425  \n",
       "coach             0.028686 -0.006078    -0.038380 -0.002010  0.065036  \n",
       "head_gender      -0.006274 -0.045154    -0.041462  0.042197  0.042840  \n",
       "greywage         -0.013582  0.099136     0.022168 -0.068037  0.011802  \n",
       "way               0.022296 -0.023380    -0.037490  0.067713  0.085969  \n",
       "extraversion      1.000000 -0.200052    -0.538039 -0.135046  0.297375  \n",
       "independ         -0.200052  1.000000    -0.165795 -0.427209  0.023865  \n",
       "selfcontrol      -0.538039 -0.165795     1.000000 -0.107568 -0.565972  \n",
       "anxiety          -0.135046 -0.427209    -0.107568  1.000000  0.246668  \n",
       "novator           0.297375  0.023865    -0.565972  0.246668  1.000000  "
      ]
     },
     "execution_count": 7,
     "metadata": {},
     "output_type": "execute_result"
    }
   ],
   "source": [
    "df.corr()"
   ]
  },
  {
   "cell_type": "markdown",
   "metadata": {},
   "source": [
    "## **3. Model**\n",
    "\n",
    "Survival models come in two main flavors, parametric and semi-parametric. In a parametric model, the survival time of a subject is modeled explicitly using a parametric probability distribution. There is a great deal of flexibility in how the parametric probability distribution is constructed. Rather than explicitly modeling a parametric survival probability, semi-parametric survival models instead model the relative effect on survival of covariates.\n",
    "\n",
    "In the Survival Analysis very common behaviour is to analyze influence of the covariates on the model's prediction. In an employee turnover problem, covariates could include a variety of factors that might impact the likelihood of an employee leaving the company, such as employee's age, gender, psycholigical factors and so on.\n",
    "\n",
    "That is why we decided to create in our project two separate models, parametric and semi-parametric one."
   ]
  },
  {
   "cell_type": "markdown",
   "metadata": {},
   "source": [
    "**3.1. Weibull Model without Covariates**\n",
    "\n",
    "This model only includes the shape parameter ($ k $) and scale parameter ($ \\lambda $) of the Weibull distribution. It assumes that the survival times are only influenced by the Weibull distribution parameters and not by any covariates.\n",
    "\n",
    "The survival function $ S(t) $, probability density function $ f(t | k, \\lambda) $ and the hazard function $ h(t) $ for the Weibull distribution without covariates are:\n",
    "\n",
    "$ f(t | k, \\lambda) = \\frac{k}{\\lambda} \\left(\\frac{t}{\\lambda}\\right)^{k-1} e^{-\\left(\\frac{t}{\\lambda}\\right)^k} $\n",
    "\n",
    "$ S(t | k, \\lambda) = e^{-\\left(\\frac{t}{\\lambda}\\right)^{k}} $\n",
    "\n",
    "$ h(t | k, \\lambda) = \\frac{k}{\\lambda}\\left(\\frac{t}{\\lambda}\\right)^{k - 1} $\n",
    "\n",
    "**Parameters**\n",
    "\n",
    "- $ k $: Shape parameter\n",
    "- $ \\lambda $: Scale parameter\n",
    "\n",
    "**Required Data**\n",
    "\n",
    "- $ \\text{target} $: Survival times (continuous)\n",
    "- $ \\text{censor} $: Censoring indicators (0 for observed, 1 for censored)\n"
   ]
  },
  {
   "cell_type": "markdown",
   "metadata": {},
   "source": [
    "**3.2. Weibull Model with Covariates**\n",
    "\n",
    "This model includes the shape parameter ($ k $), the scale parameter ($ \\lambda $), and the regression coefficients ($ \\theta $). It assumes that the survival times are influenced not only by the Weibull distribution parameters but also by covariates.\n",
    "\n",
    "In this model, the scale parameter $ \\lambda $ is modified by the covariates through a linear predictor $ \\eta $:\n",
    "\n",
    "$ \\eta = X \\theta $\n",
    "\n",
    "where $ X $ is the matrix of covariates and $ \\theta $ is the vector of regression coefficients. The survival, probability density and hazard functions become:\n",
    "\n",
    "$ \\lambda_i = e^{X_i \\theta} $\n",
    "\n",
    "$ S(t_i | k, \\lambda_i) = e^{-\\left(\\frac{t_i}{\\lambda_i}\\right)^{k}} $\n",
    "\n",
    "$ f(t_i | k, \\lambda_i) = \\frac{k}{\\lambda_i} \\left(\\frac{t_i}{\\lambda_i}\\right)^{k-1} e^{-\\left(\\frac{t_i}{\\lambda_i}\\right)^k} $\n",
    "\n",
    "$ h(t_i | k, \\lambda_i) = \\frac{k}{\\lambda_i}\\left(\\frac{t_i}{\\lambda_i}\\right)^{k - 1} $\n",
    "\n",
    "**Parameters**\n",
    "\n",
    "- $ k $: Shape parameter\n",
    "- $ \\theta $: Regression coefficients (vector of length $ K $, where $ K $ is the number of covariates)\n",
    "\n",
    "**Required Data**\n",
    "\n",
    "- $ X $: Covariate matrix (dimensions $ N \\times K $)\n",
    "- $ \\text{target} $: Survival times (continuous)\n",
    "- $ \\text{censor} $: Censoring indicators (0 for observed, 1 for censored)\n"
   ]
  },
  {
   "cell_type": "markdown",
   "metadata": {},
   "source": [
    "## **4. Priors**\n",
    "\n",
    "**4.1. Prior model**\n",
    "\n",
    "Because of the fact that in the weibull distribution $ \\lambda \\in (0, +\\infty) \\land k \\in (0, +\\infty) $, we set lower limit for $ k $ and $ \\lambda $ to $ 0 $. We also choose normal distribution to sample its values depending on the provided mean and standard deviation. "
   ]
  },
  {
   "cell_type": "markdown",
   "metadata": {},
   "source": [
    "```stan\n",
    "data {\n",
    "    int <lower=0> N; // number of observations\n",
    "\n",
    "    real <lower=0> mu_k;          // mean for k\n",
    "    real <lower=0> sigma_k;       // std for k\n",
    "    real <lower=0> mu_lambda;     // mean for lambda\n",
    "    real <lower=0> sigma_lambda;  // std for lambda\n",
    "}\n",
    "\n",
    "generated quantities {\n",
    "    real <lower=0> lambda = normal_rng(mu_lambda, sigma_lambda);\n",
    "    real <lower=0> k = normal_rng(mu_k, sigma_k);\n",
    "    array [N] real y_sim; // simulated survival times\n",
    "    for (n in 1:N) {\n",
    "        y_sim[n] = weibull_rng(k, lambda);\n",
    "    }\n",
    "}\n",
    "```"
   ]
  },
  {
   "cell_type": "code",
   "execution_count": 8,
   "metadata": {
    "metadata": {}
   },
   "outputs": [
    {
     "name": "stderr",
     "output_type": "stream",
     "text": [
      "/root/miniconda3/envs/data/lib/python3.12/site-packages/tqdm/auto.py:21: TqdmWarning: IProgress not found. Please update jupyter and ipywidgets. See https://ipywidgets.readthedocs.io/en/stable/user_install.html\n",
      "  from .autonotebook import tqdm as notebook_tqdm\n"
     ]
    }
   ],
   "source": [
    "import matplotlib.pyplot as plt\n",
    "from cmdstanpy import CmdStanModel\n",
    "\n",
    "\n",
    "def do_sampling(\n",
    "    model_path: str,\n",
    "    data: dict,\n",
    "    target: np.ndarray,\n",
    "    censor: np.ndarray,\n",
    "    iter_sampling: int\n",
    ") -> CmdStanModel:\n",
    "    \n",
    "    stan_model = CmdStanModel(stan_file=model_path)\n",
    "    samples = stan_model.sample(\n",
    "        data=data,\n",
    "        fixed_param=True,\n",
    "        iter_sampling=iter_sampling,\n",
    "        iter_warmup=1,\n",
    "        chains=1\n",
    "    )\n",
    "    times_sim = samples.stan_variable(\"y_sim\")\n",
    "\n",
    "    plt.hist(target[censor == 0], bins=30, color=\"green\", edgecolor='black')\n",
    "    plt.hist(times_sim[-1], bins=30, color=\"blue\", edgecolor='black')\n",
    "    plt.title(f'Histogram of times sampled using {model_path.split(\"/\")[-1].split(\".\")[0]}')\n",
    "    plt.xlabel('Time')\n",
    "    plt.legend([\"Times of observed events\", \"Times simulated\"])\n",
    "    plt.show()\n",
    "    \n",
    "    return stan_model"
   ]
  },
  {
   "cell_type": "code",
   "execution_count": 9,
   "metadata": {},
   "outputs": [
    {
     "name": "stdout",
     "output_type": "stream",
     "text": [
      "Target array shape: (1129,)\n",
      "Censor array shape: (1129,)\n"
     ]
    }
   ],
   "source": [
    "target_array, censor_array = df[\"stag\"].values, np.array(1 - df[\"event\"].values)\n",
    "\n",
    "print(f\"Target array shape: {target_array.shape}\")\n",
    "print(f\"Censor array shape: {censor_array.shape}\")"
   ]
  },
  {
   "cell_type": "markdown",
   "metadata": {},
   "source": [
    "**4.2. Parameter values explanation**\n",
    "\n",
    "While specifying parameters values we should take a look at our historical data. We can see at the times histogram shown below that the historical data suggest, that turnover decreases with employee tenure, so in our priors predictive model we should keep $ k < 0.0 $.\n",
    "\n",
    "Based on the definition of Weibull distribution parameters, we set the $ k $ mean value $ \\mu_k = 0.5 $ with standard deviation $ \\sigma_k = 0.1 $.\n",
    "\n",
    "In our first try we are using $ \\mu_\\lambda = 1 $ and $ \\sigma_\\lambda = 0.1 $ for the scale parameter $ \\lambda $ as we do not want to scale our characteristic for now."
   ]
  },
  {
   "cell_type": "code",
   "execution_count": 10,
   "metadata": {},
   "outputs": [
    {
     "data": {
      "image/png": "[encoded data removed]",
      "text/plain": [
       "<Figure size 640x480 with 1 Axes>"
      ]
     },
     "metadata": {},
     "output_type": "display_data"
    }
   ],
   "source": [
    "plt.hist(target_array[censor_array == 0], bins=30, color=\"green\", edgecolor='black')\n",
    "plt.title('Uncensored times histogram')\n",
    "plt.xlabel('Time')\n",
    "plt.show()"
   ]
  },
  {
   "cell_type": "code",
   "execution_count": 11,
   "metadata": {
    "metadata": {}
   },
   "outputs": [
    {
     "name": "stderr",
     "output_type": "stream",
     "text": [
      "18:11:58 - cmdstanpy - INFO - CmdStan start processing\n",
      "chain 1 |\u001b[34m██████████\u001b[0m| 00:00 Sampling completed"
     ]
    },
    {
     "name": "stdout",
     "output_type": "stream",
     "text": [
      "                                                                                "
     ]
    },
    {
     "name": "stderr",
     "output_type": "stream",
     "text": [
      "\n",
      "18:11:58 - cmdstanpy - INFO - CmdStan done processing.\n"
     ]
    },
    {
     "name": "stdout",
     "output_type": "stream",
     "text": [
      "\n"
     ]
    },
    {
     "data": {
      "image/png": "[encoded data removed]",
      "text/plain": [
       "<Figure size 640x480 with 1 Axes>"
      ]
     },
     "metadata": {},
     "output_type": "display_data"
    }
   ],
   "source": [
    "prior_for_parameters_model = do_sampling(\n",
    "    model_path=\"stan/prior_parameters.stan\",\n",
    "    data={\n",
    "        \"N\": normalized_features_matrix.shape[0],\n",
    "        \n",
    "        \"mu_k\": 0.5,\n",
    "        \"sigma_k\": 0.1,\n",
    "        \"mu_lambda\": 1,\n",
    "        \"sigma_lambda\": 0.1\n",
    "    },\n",
    "    target=target_array,\n",
    "    censor=censor_array,\n",
    "    iter_sampling=1\n",
    ")"
   ]
  },
  {
   "cell_type": "markdown",
   "metadata": {},
   "source": [
    "**4.3. Prior predictive check for parameters**\n",
    "\n",
    "Based on the received results we can say that the slope of histogram is much larger than in case of our historical data. To fix it we should definitely modify the shape parameter. We can increase the $ \\mu_k $ value to $ 0.9 $.\n",
    "\n",
    "We can also see that the `Time` axis is much wider than in case of our historical data, so to fix that we can increase the scale parameter value to $\\mu_\\lambda = 20 $. \n",
    "\n",
    "We should also modify $ \\sigma_k = 0.01 $ and $ \\sigma_\\lambda = 0.01 $ to decrease ouliers."
   ]
  },
  {
   "cell_type": "code",
   "execution_count": 12,
   "metadata": {},
   "outputs": [
    {
     "name": "stderr",
     "output_type": "stream",
     "text": [
      "18:11:59 - cmdstanpy - INFO - CmdStan start processing\n",
      "chain 1 |\u001b[34m██████████\u001b[0m| 00:00 Sampling completed"
     ]
    },
    {
     "name": "stdout",
     "output_type": "stream",
     "text": [
      "                                                                                "
     ]
    },
    {
     "name": "stderr",
     "output_type": "stream",
     "text": [
      "\n",
      "18:11:59 - cmdstanpy - INFO - CmdStan done processing.\n"
     ]
    },
    {
     "name": "stdout",
     "output_type": "stream",
     "text": [
      "\n"
     ]
    },
    {
     "data": {
      "image/png": "[encoded data removed]",
      "text/plain": [
       "<Figure size 640x480 with 1 Axes>"
      ]
     },
     "metadata": {},
     "output_type": "display_data"
    }
   ],
   "source": [
    "prior_for_parameters_model = do_sampling(\n",
    "    model_path=\"stan/prior_parameters.stan\",\n",
    "    data={\n",
    "        \"N\": normalized_features_matrix.shape[0],\n",
    "            \n",
    "        \"mu_k\": 0.9,\n",
    "        \"sigma_k\": 0.01,\n",
    "        \"mu_lambda\": 20,\n",
    "        \"sigma_lambda\": 0.01\n",
    "    },\n",
    "    target=target_array,\n",
    "    censor=censor_array,\n",
    "    iter_sampling=1\n",
    ")"
   ]
  },
  {
   "cell_type": "markdown",
   "metadata": {},
   "source": [
    "**4.4. Prior ppredictive check for measurement**\n",
    "\n",
    "Having the parameters specified empirically, we can now focus on the prior predictive check for measurement. For that purpose we have to add a new variable to our prior model. The variable represents measurement features matrix "
   ]
  },
  {
   "cell_type": "markdown",
   "metadata": {},
   "source": [
    "```stan\n",
    "data {\n",
    "    int <lower=0> N; // number of observations\n",
    "    int <lower=0> M; // number of features\n",
    "    matrix [N, M] X; // covariates matrix\n",
    "\n",
    "    real <lower=0> mu_k;          // mean for k\n",
    "    real <lower=0> sigma_k;       // std for k\n",
    "    real <lower=0> mu_lambda;     // mean for lambda\n",
    "    real <lower=0> sigma_lambda;  // std for lambda\n",
    "}\n",
    "\n",
    "generated quantities {\n",
    "    real <lower=0> lambda = normal_rng(mu_lambda, sigma_lambda);\n",
    "    vector <lower=0> [M] k;\n",
    "    for (m in 1:M) {\n",
    "        k[m] = normal_rng(mu_k, sigma_k);\n",
    "    }\n",
    "    array [N] real y_sim; // simulated survival times\n",
    "    for (n in 1:N) {\n",
    "        y_sim[n] = weibull_rng(X[n] * k, lambda);\n",
    "    }\n",
    "}\n",
    "```"
   ]
  },
  {
   "cell_type": "code",
   "execution_count": 13,
   "metadata": {},
   "outputs": [
    {
     "name": "stderr",
     "output_type": "stream",
     "text": [
      "18:11:59 - cmdstanpy - INFO - CmdStan start processing\n",
      "chain 1 |\u001b[34m██████████\u001b[0m| 00:00 Sampling completed"
     ]
    },
    {
     "name": "stdout",
     "output_type": "stream",
     "text": [
      "                                                                                "
     ]
    },
    {
     "name": "stderr",
     "output_type": "stream",
     "text": [
      "\n",
      "18:11:59 - cmdstanpy - INFO - CmdStan done processing.\n"
     ]
    },
    {
     "name": "stdout",
     "output_type": "stream",
     "text": [
      "\n"
     ]
    },
    {
     "data": {
      "image/png": "[encoded data removed]",
      "text/plain": [
       "<Figure size 640x480 with 1 Axes>"
      ]
     },
     "metadata": {},
     "output_type": "display_data"
    }
   ],
   "source": [
    "prior_for_measurement_model = do_sampling(\n",
    "    model_path=\"stan/prior_measurements.stan\",\n",
    "    data={\n",
    "        \"N\": normalized_features_matrix.shape[0],\n",
    "        \"M\": normalized_features_matrix.shape[1],\n",
    "        \"X\": normalized_features_matrix,\n",
    "        \n",
    "        \"mu_k\": 0.75,\n",
    "        \"sigma_k\": 0.01,\n",
    "        \"mu_lambda\": 20,\n",
    "        \"sigma_lambda\": 0.01\n",
    "    },\n",
    "    target=target_array,\n",
    "    censor=censor_array,\n",
    "    iter_sampling=1\n",
    ")"
   ]
  },
  {
   "cell_type": "markdown",
   "metadata": {},
   "source": [
    "In case of priors for measurements, we can see that the shape parameter needs to be changed. It happens because of the fact that for each record we are multiplying the measurements record by the vector of sampled $ k $. Because of that we reduced shape parameter mean to $ \\mu_k = 0.5 $."
   ]
  },
  {
   "cell_type": "code",
   "execution_count": 14,
   "metadata": {},
   "outputs": [
    {
     "name": "stderr",
     "output_type": "stream",
     "text": [
      "18:12:00 - cmdstanpy - INFO - CmdStan start processing\n",
      "chain 1 |\u001b[34m██████████\u001b[0m| 00:00 Sampling completed"
     ]
    },
    {
     "name": "stdout",
     "output_type": "stream",
     "text": [
      "                                                                                "
     ]
    },
    {
     "name": "stderr",
     "output_type": "stream",
     "text": [
      "\n",
      "18:12:00 - cmdstanpy - INFO - CmdStan done processing.\n"
     ]
    },
    {
     "name": "stdout",
     "output_type": "stream",
     "text": [
      "\n"
     ]
    },
    {
     "data": {
      "image/png": "[encoded data removed]",
      "text/plain": [
       "<Figure size 640x480 with 1 Axes>"
      ]
     },
     "metadata": {},
     "output_type": "display_data"
    }
   ],
   "source": [
    "prior_for_measurement_model = do_sampling(\n",
    "    model_path=\"stan/prior_measurements.stan\",\n",
    "    data={\n",
    "        \"N\": normalized_features_matrix.shape[0],\n",
    "        \"M\": normalized_features_matrix.shape[1],\n",
    "        \"X\": normalized_features_matrix,\n",
    "        \n",
    "        \"mu_k\": 0.5,\n",
    "        \"sigma_k\": 0.01,\n",
    "        \"mu_lambda\": 20,\n",
    "        \"sigma_lambda\": 0.01\n",
    "    },\n",
    "    target=target_array,\n",
    "    censor=censor_array,\n",
    "    iter_sampling=1\n",
    ")"
   ]
  },
  {
   "cell_type": "markdown",
   "metadata": {},
   "source": [
    "## 5. Posterior analysis of the first model"
   ]
  },
  {
   "cell_type": "markdown",
   "metadata": {},
   "source": [
    "```stan\n",
    "data {\n",
    "    int <lower=0> N; // number of observations\n",
    "    int <lower=0> M; // number of features\n",
    "    matrix [N, M] X; // covariates matrix\n",
    "    vector[N] y;     // survival times\n",
    "    array[N] int <lower=0,upper=1> censor;  //censoring indicator\n",
    "\n",
    "    real <lower=0> mu_k;          // mean for k\n",
    "    real <lower=0> sigma_k;       // std for k\n",
    "    real <lower=0> mu_lambda;     // mean for lambda\n",
    "    real <lower=0> sigma_lambda;  // std for lambda\n",
    "}\n",
    "\n",
    "parameters {\n",
    "    vector <lower=0> [M] k;   // shape parameter\n",
    "    real<lower=0> lambda;     // scale parameter\n",
    "}\n",
    "\n",
    "model {\n",
    "    k ~ lognormal(mu_k, sigma_k);\n",
    "    lambda ~ lognormal(mu_lambda, sigma_lambda);\n",
    "    for (n in 1:N) {\n",
    "        if (censor[n] == 0) {\n",
    "            target += weibull_lpdf(y[n] | exp(X[n] * k), lambda);\n",
    "        } else {\n",
    "            target += weibull_lccdf(y[n] | exp(X[n] * k), lambda);\n",
    "        }\n",
    "    }\n",
    "}\n",
    "\n",
    "generated quantities {\n",
    "    array [N] real y_sim;   // survival times\n",
    "    vector[N] log_lik;      // likelihood\n",
    "    for (n in 1:N) {\n",
    "        log_lik[n] = weibull_lpdf(y[n] | exp(X[n] * k), lambda);\n",
    "        y_sim[n] = weibull_rng(exp(X[n] * k), lambda);\n",
    "    }\n",
    "}\n",
    "```"
   ]
  },
  {
   "cell_type": "code",
   "execution_count": 24,
   "metadata": {},
   "outputs": [
    {
     "name": "stderr",
     "output_type": "stream",
     "text": [
      "18:15:58 - cmdstanpy - INFO - CmdStan start processing\n",
      "chain 1 |\u001b[34m██████████\u001b[0m| 00:02 Sampling completed                      "
     ]
    },
    {
     "name": "stdout",
     "output_type": "stream",
     "text": [
      "                                                                                "
     ]
    },
    {
     "name": "stderr",
     "output_type": "stream",
     "text": [
      "\n",
      "18:16:00 - cmdstanpy - INFO - CmdStan done processing.\n"
     ]
    },
    {
     "name": "stdout",
     "output_type": "stream",
     "text": [
      "\n"
     ]
    },
    {
     "data": {
      "image/png": "[encoded data removed]",
      "text/plain": [
       "<Figure size 640x480 with 1 Axes>"
      ]
     },
     "metadata": {},
     "output_type": "display_data"
    }
   ],
   "source": [
    "posterior_model_1 = do_sampling(\n",
    "    model_path=\"stan/posterior_model_1.stan\",\n",
    "    data={\n",
    "        \"N\": normalized_features_matrix.shape[0],\n",
    "        \"M\": normalized_features_matrix.shape[1],\n",
    "        \"X\": normalized_features_matrix,\n",
    "        \"y\": target_array,\n",
    "        \"censor\": censor_array,\n",
    "        \n",
    "        \"mu_k\": 0.5,\n",
    "        \"sigma_k\": 0.01,\n",
    "        \"mu_lambda\": 200,\n",
    "        \"sigma_lambda\": 0.01\n",
    "    },\n",
    "    target=target_array,\n",
    "    censor=censor_array,\n",
    "    iter_sampling=1000\n",
    ")"
   ]
  },
  {
   "cell_type": "markdown",
   "metadata": {},
   "source": [
    "## 6. Posterior analysis of the second model"
   ]
  },
  {
   "cell_type": "markdown",
   "metadata": {},
   "source": [
    "```stan\n",
    "data {\n",
    "    int <lower=0> N; // number of observations\n",
    "    int <lower=0> M; // number of features\n",
    "    matrix [N, M] X; // covariates matrix\n",
    "    vector[N] y;     // survival times\n",
    "    array[N] int <lower=0,upper=1> censor;  //censoring indicator\n",
    "\n",
    "    real <lower=0> mu_k;          // mean for k\n",
    "    real <lower=0> sigma_k;       // std for k\n",
    "    real <lower=0> mu_lambda;     // mean for lambda\n",
    "    real <lower=0> sigma_lambda;  // std for lambda\n",
    "    real <lower=0> mu_theta;      // mean for theta\n",
    "    real <lower=0> sigma_theta;   // std for theta\n",
    "}\n",
    "\n",
    "parameters {\n",
    "    real<lower=0> k;              // shape parameter\n",
    "    real<lower=0> lambda;         // scale parameter\n",
    "    vector <lower=0> [M] theta;   // regression coefficient\n",
    "}\n",
    "\n",
    "model {\n",
    "    k ~ lognormal(mu_k, sigma_k);\n",
    "    lambda ~ lognormal(mu_lambda, sigma_lambda);\n",
    "    theta ~ lognormal(mu_theta, sigma_theta);\n",
    "    for (n in 1:N) {\n",
    "        if (censor[n] == 0) {\n",
    "            target += weibull_lpdf(y[n] | exp(X[n] * theta) * k, lambda);\n",
    "        } else {\n",
    "            target += weibull_lccdf(y[n] | exp(X[n] * theta) * k, lambda);\n",
    "        }\n",
    "    }\n",
    "}\n",
    "\n",
    "generated quantities {\n",
    "    array [N] real y_sim;   // survival times\n",
    "    vector[N] log_lik;      // likelihood\n",
    "    for (n in 1:N) {\n",
    "        log_lik[n] = weibull_lpdf(y[n] | exp(X[n] * theta) * k, lambda);\n",
    "        y_sim[n] = weibull_rng(exp(X[n] * theta) * k, lambda);\n",
    "    }\n",
    "}\n",
    "```"
   ]
  },
  {
   "cell_type": "code",
   "execution_count": 16,
   "metadata": {},
   "outputs": [
    {
     "name": "stderr",
     "output_type": "stream",
     "text": [
      "18:12:05 - cmdstanpy - INFO - CmdStan start processing\n",
      "chain 1 |\u001b[34m██████████\u001b[0m| 00:01 Sampling completed                      "
     ]
    },
    {
     "name": "stdout",
     "output_type": "stream",
     "text": [
      "                                                                                "
     ]
    },
    {
     "name": "stderr",
     "output_type": "stream",
     "text": [
      "\n",
      "18:12:07 - cmdstanpy - INFO - CmdStan done processing.\n"
     ]
    },
    {
     "name": "stdout",
     "output_type": "stream",
     "text": [
      "\n"
     ]
    },
    {
     "data": {
      "image/png": "[encoded data removed]",
      "text/plain": [
       "<Figure size 640x480 with 1 Axes>"
      ]
     },
     "metadata": {},
     "output_type": "display_data"
    }
   ],
   "source": [
    "posterior_model_2 = do_sampling(\n",
    "    model_path=\"stan/posterior_model_2.stan\",\n",
    "    data={\n",
    "        \"N\": normalized_features_matrix.shape[0],\n",
    "        \"M\": normalized_features_matrix.shape[1],\n",
    "        \"X\": normalized_features_matrix,\n",
    "        \"y\": target_array,\n",
    "        \"censor\": censor_array,\n",
    "        \n",
    "        \"mu_k\": 0.5,\n",
    "        \"sigma_k\": 0.01,\n",
    "        \"mu_lambda\": 20,\n",
    "        \"sigma_lambda\": 0.01,\n",
    "        \"mu_theta\": 0,\n",
    "        \"sigma_theta\": 1\n",
    "    },\n",
    "    target=target_array,\n",
    "    censor=censor_array,\n",
    "    iter_sampling=1000\n",
    ")"
   ]
  },
  {
   "cell_type": "markdown",
   "metadata": {},
   "source": [
    "## 7. Model comparison"
   ]
  },
  {
   "cell_type": "code",
   "execution_count": null,
   "metadata": {},
   "outputs": [],
   "source": []
  }
 ],
 "metadata": {
  "kernelspec": {
   "display_name": "adv",
   "language": "python",
   "name": "python3"
  },
  "language_info": {
   "codemirror_mode": {
    "name": "ipython",
    "version": 3
   },
   "file_extension": ".py",
   "mimetype": "text/x-python",
   "name": "python",
   "nbconvert_exporter": "python",
   "pygments_lexer": "ipython3",
   "version": "3.1.undefined"
  }
 },
 "nbformat": 4,
 "nbformat_minor": 2
}
