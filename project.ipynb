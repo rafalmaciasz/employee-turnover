{
 "cells": [
  {
   "cell_type": "markdown",
   "metadata": {},
   "source": [
    "# Employee Turnover Prediction"
   ]
  },
  {
   "cell_type": "markdown",
   "metadata": {},
   "source": [
    "## 1. Introduction"
   ]
  },
  {
   "cell_type": "markdown",
   "metadata": {},
   "source": [
    "**1.1. Problem Formulation**\n",
    "\n",
    "The objective of this project is to develop a Bayesian predictive model to forecast which employees are likely to leave their jobs in the near future. Employee turnover poses a significant challenge for organizations, impacting operational efficiency and increasing costs. \n"
   ]
  },
  {
   "cell_type": "markdown",
   "metadata": {},
   "source": [
    "We assume that employees' decisions to leave are independent of each other, meaning that an employee's decision to leave depends solely on their own characteristics and is not directly related to the decisions of other employees. We are disregarding external factors that may change over time, such as changes in company policy, labor market fluctuations, etc., which could influence employees' decisions to leave."
   ]
  },
  {
   "cell_type": "markdown",
   "metadata": {},
   "source": [
    "**The aim of the project is to predict which employee is likely to leave the organization based on their demographic, professional, and psychological attributes.**"
   ]
  },
  {
   "cell_type": "markdown",
   "metadata": {},
   "source": [
    "We believe that our model can be useful. The anticipated use cases of the proposed model are described below.\n",
    "\n",
    "* **Human Resource Management**\n",
    "\n",
    "    HR specialists can use the model to identify employees at risk of leaving, enabling the implementation of targeted retention strategies and minimizing the loss of key talents.\n",
    "\n",
    "* **Workforce Planning**\n",
    "\n",
    "    Managers can utilize the model's predictions for more effective human resource planning, allowing them to prepare for potential departures and prevent staffing shortages.\n",
    "\n",
    "* **Decision Support**\n",
    "\n",
    "    The company's management can use the model's results to understand the main factors influencing employee turnover, supporting decisions regarding employment policies and retention strategies.\n",
    "\n",
    "* **HR Consulting**\n",
    "\n",
    "    HR consultants can use the model to advise companies on improving employment policies, reducing turnover rates, and increasing employee satisfaction through more targeted actions."
   ]
  },
  {
   "cell_type": "markdown",
   "metadata": {},
   "source": [
    "**1.2. Data source**\n",
    "\n",
    "Employee turnover results from various factors, including demographic information, job roles, industry type, and psychological characteristics. \n",
    "\n",
    "This Employee Turnover dataset is a real dataset shared from Edward Babushkin's blog used to predict an employee's risk of quitting. The dataset consists of 1129 records with the following features:\n",
    "\n",
    "* **stag:** Employee's tenure at the company.\n",
    "* **event:** Target variable indicating turnover (1 for leaving, 0 for staying).\n",
    "* **gender**: Employee's gender (m for male, f for female).\n",
    "* **age:** Employee's age.\n",
    "* **industry:** Industry in which the employee works.\n",
    "* **profession:** Employee's occupation.\n",
    "* **traffic:** Commuting source, indicating how the employee gets to work.\n",
    "* **coach:** Indicates whether the employee has a coach (yes or no).\n",
    "* **head_gender:** Gender of the supervisor.\n",
    "* **greywage:** Type of wage (white for regular wage).\n",
    "* **way:** Mode of transportation to work (bus, car, etc.).\n",
    "* **extraversion:** Employee's extraversion score.\n",
    "* **independ:** Employee's independence score.\n",
    "* **selfcontrol:** Employee's self-control score.\n",
    "* **anxiety:** Employee's anxiety score.\n",
    "* **novator:** Employee's innovativeness score.\n"
   ]
  },
  {
   "cell_type": "markdown",
   "metadata": {},
   "source": [
    "Data has been downloaded from kaggle.\n",
    "\n",
    "https://www.kaggle.com/datasets/davinwijaya/employee-turnover"
   ]
  },
  {
   "cell_type": "markdown",
   "metadata": {},
   "source": [
    "## 2. Data preprocessing"
   ]
  },
  {
   "cell_type": "code",
   "execution_count": null,
   "metadata": {},
   "outputs": [],
   "source": []
  },
  {
   "cell_type": "markdown",
   "metadata": {},
   "source": [
    "## 3. Model"
   ]
  },
  {
   "cell_type": "code",
   "execution_count": null,
   "metadata": {},
   "outputs": [],
   "source": []
  },
  {
   "cell_type": "markdown",
   "metadata": {},
   "source": [
    "## 4. Priors"
   ]
  },
  {
   "cell_type": "code",
   "execution_count": null,
   "metadata": {},
   "outputs": [],
   "source": []
  },
  {
   "cell_type": "markdown",
   "metadata": {},
   "source": [
    "## 5. Posterior analysis of the first model"
   ]
  },
  {
   "cell_type": "code",
   "execution_count": null,
   "metadata": {},
   "outputs": [],
   "source": []
  },
  {
   "cell_type": "markdown",
   "metadata": {},
   "source": [
    "## 6. Posterior analysis of the second model"
   ]
  },
  {
   "cell_type": "code",
   "execution_count": null,
   "metadata": {},
   "outputs": [],
   "source": []
  },
  {
   "cell_type": "markdown",
   "metadata": {},
   "source": [
    "## 7. Model comparison"
   ]
  },
  {
   "cell_type": "code",
   "execution_count": null,
   "metadata": {},
   "outputs": [],
   "source": []
  }
 ],
 "metadata": {
  "language_info": {
   "name": "python"
  }
 },
 "nbformat": 4,
 "nbformat_minor": 2
}
